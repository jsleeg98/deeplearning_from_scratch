{
  "nbformat": 4,
  "nbformat_minor": 0,
  "metadata": {
    "colab": {
      "provenance": [],
      "collapsed_sections": [],
      "toc_visible": true,
      "authorship_tag": "ABX9TyORw4Mm9vpVCW9l/ZoZn89f",
      "include_colab_link": true
    },
    "kernelspec": {
      "name": "python3",
      "display_name": "Python 3"
    },
    "language_info": {
      "name": "python"
    }
  },
  "cells": [
    {
      "cell_type": "markdown",
      "metadata": {
        "id": "view-in-github",
        "colab_type": "text"
      },
      "source": [
        "<a href=\"https://colab.research.google.com/github/jsleeg98/deeplearning_from_scratch/blob/main/ch2_%ED%8D%BC%EC%85%89%ED%8A%B8%EB%A1%A0.ipynb\" target=\"_parent\"><img src=\"https://colab.research.google.com/assets/colab-badge.svg\" alt=\"Open In Colab\"/></a>"
      ]
    },
    {
      "cell_type": "markdown",
      "source": [
        "# 2.1 퍼셉트론\n",
        "퍼셉트론 이란 다수의 신호를 입력으로 받아 하나의 신호를 출력하는 것을 말합니다.\n",
        "\n",
        "여기서 신호는 흐른다(1), 흐르지 않는다(0)으로 두가지 값으로 가질 수 있습니다.\n",
        "\n",
        "간단한 퍼셉트론을 예시로 들면 두 개의 입력($x_1$, $x_2$)과 하나의 출력($y$)을 가진 퍼셉트론이 있습니다. 각각의 입력마다 가중치($w_1, w_2$)가 존재하고 이는 입력의 중요도를 나타냅니다. \n",
        "\n",
        "이를 식으로 표현하면 $y = x_1 \\times w_1 + x_2 \\times w_2$로 표현할 수 있습니다.  \n"
      ],
      "metadata": {
        "id": "IIcYcUUzzatk"
      }
    },
    {
      "cell_type": "markdown",
      "source": [
        "# 2.2 단순한 논리 회로"
      ],
      "metadata": {
        "id": "taqaMjZN7TzX"
      }
    },
    {
      "cell_type": "markdown",
      "source": [
        "## 2.2.1 AND 게이트\n",
        "AND게이트는 입력 $x_1, x_2$가 모두 0일 때 빼고 모두 출력이 1이 되는 게이트 입니다."
      ],
      "metadata": {
        "id": "upndNBHx7e-d"
      }
    },
    {
      "cell_type": "markdown",
      "source": [
        "\n",
        "\n",
        "## 2.2.2 NAND게이트 OR 게이트\n",
        "* NAND 게이트는 입력 $x_1, x_2$가 모두 1일 때 출력 0이고 나머지는 출력이 1인 게이트 입니다.\n",
        "* OR 게이트는 입력 $x_1, x_2$가 모두 0일 때 출력 0이고 나머지는 출력이 1인 게이트 입니다."
      ],
      "metadata": {
        "id": "ae8RWGru2E0K"
      }
    },
    {
      "cell_type": "markdown",
      "source": [
        "# 2.3 퍼셉트론 구현하기"
      ],
      "metadata": {
        "id": "wpvUj9g-7aGn"
      }
    },
    {
      "cell_type": "markdown",
      "source": [
        "\n",
        "## 2.3.1 간단한 구현부터\n",
        "AND 게이트 구현하기"
      ],
      "metadata": {
        "id": "rf02J6B3285p"
      }
    },
    {
      "cell_type": "code",
      "source": [
        "def AND(x1, x2):\n",
        "    w1, w2, theta = 0.5, 0.5, 0.7\n",
        "    tmp = x1 * w1 + x2 * w2\n",
        "    if tmp <= theta:\n",
        "        return 0\n",
        "    elif tmp > theta:\n",
        "        return 1"
      ],
      "metadata": {
        "id": "VmDAREsS2EXV"
      },
      "execution_count": null,
      "outputs": []
    },
    {
      "cell_type": "code",
      "execution_count": null,
      "metadata": {
        "colab": {
          "base_uri": "https://localhost:8080/"
        },
        "id": "ZrPsfMDAyyky",
        "outputId": "2697d816-1b55-4b5d-9a9b-3d99ca219381"
      },
      "outputs": [
        {
          "output_type": "stream",
          "name": "stdout",
          "text": [
            "0\n",
            "0\n",
            "0\n",
            "1\n"
          ]
        }
      ],
      "source": [
        "print(AND(0, 0))\n",
        "print(AND(0, 1))\n",
        "print(AND(1, 0))\n",
        "print(AND(1, 1))"
      ]
    },
    {
      "cell_type": "markdown",
      "source": [
        "## 2.3.2 가중치와 편향 도입\n",
        "위의 예제에서 theta를 기준으로 출력을 0과 1로 해주었습니다. 이는 곧 $y = x_1w_1 + x_2w_2$의 출력 $y$값과 theta를 비교하여 theta보다 크면 1 theta보다 작으면 0이 출력되게 한 것입니다. 여기서 thata를 -b로 치환하게 된다면 $(b + x_1w_1 + x_2w_2) 과 0$의 비교를 통해서 0보다 크면 출력이 1, 0보다 작으면 출력이 0으로 바꿀 수 있습니다. \n",
        "\n",
        "따라서 가중치는 해당 입력의 중요도라고 할 수 있고 편향(b)는 민감도라고 이해할 수 있습니다.\n",
        "\n",
        "다음은 AND 게이트를 가중치와 편향으로 구현한 결과 입니다."
      ],
      "metadata": {
        "id": "3NHWROVl3Tjm"
      }
    },
    {
      "cell_type": "code",
      "source": [
        "import numpy as np\n",
        "def AND(x1, x2):\n",
        "    x = np.array([x1, x2])\n",
        "    w = np.array([0.5, 0.5])\n",
        "    b = -0.7\n",
        "    tmp = np.sum(w * x) + b\n",
        "    if tmp <= 0:\n",
        "        return 0\n",
        "    else:\n",
        "        return 1\n"
      ],
      "metadata": {
        "id": "flEbHzCV3McJ"
      },
      "execution_count": null,
      "outputs": []
    },
    {
      "cell_type": "code",
      "source": [
        "print(AND(0, 0))\n",
        "print(AND(0, 1))\n",
        "print(AND(1, 0))\n",
        "print(AND(1, 1))"
      ],
      "metadata": {
        "colab": {
          "base_uri": "https://localhost:8080/"
        },
        "id": "jzcxDFO14tYI",
        "outputId": "c29701bf-a6e2-4acc-926c-287a919d602e"
      },
      "execution_count": null,
      "outputs": [
        {
          "output_type": "stream",
          "name": "stdout",
          "text": [
            "0\n",
            "0\n",
            "0\n",
            "1\n"
          ]
        }
      ]
    },
    {
      "cell_type": "markdown",
      "source": [
        "다음은 NAND 게이트의 구현입니다."
      ],
      "metadata": {
        "id": "GEYhhmYa4-22"
      }
    },
    {
      "cell_type": "code",
      "source": [
        "def NAND(x1, x2):\n",
        "    x = np.array([x1, x2])\n",
        "    w = np.array([-0.5, -0.5])  # AND와는 가중치(w, b)만 다르다\n",
        "    b = 0.7\n",
        "    tmp = np.sum(w * x) + b\n",
        "    if tmp <= 0:\n",
        "        return 0\n",
        "    else:\n",
        "        return 1"
      ],
      "metadata": {
        "id": "CkXA6fLG46_X"
      },
      "execution_count": null,
      "outputs": []
    },
    {
      "cell_type": "code",
      "source": [
        "print(NAND(0, 0))\n",
        "print(NAND(0, 1))\n",
        "print(NAND(1, 0))\n",
        "print(NAND(1, 1))"
      ],
      "metadata": {
        "colab": {
          "base_uri": "https://localhost:8080/"
        },
        "id": "r7eGH_Uu5IDR",
        "outputId": "a756e248-1548-4547-86de-499887250b18"
      },
      "execution_count": null,
      "outputs": [
        {
          "output_type": "stream",
          "name": "stdout",
          "text": [
            "1\n",
            "1\n",
            "1\n",
            "0\n"
          ]
        }
      ]
    },
    {
      "cell_type": "markdown",
      "source": [
        "다음은 OR게이트의 구현입니다."
      ],
      "metadata": {
        "id": "9HOx1HxG5QNI"
      }
    },
    {
      "cell_type": "code",
      "source": [
        "def OR(x1, x2):\n",
        "    x = np.array([x1, x2])\n",
        "    w = np.array([0.5, 0.5])  # AND와는 가중치(w, b)만 다르다\n",
        "    b = -0.2\n",
        "    tmp = np.sum(w * x) + b\n",
        "    if tmp <= 0:\n",
        "        return 0\n",
        "    else:\n",
        "        return 1"
      ],
      "metadata": {
        "id": "EUSs5wgf5PJN"
      },
      "execution_count": null,
      "outputs": []
    },
    {
      "cell_type": "code",
      "source": [
        "print(OR(0, 0))\n",
        "print(OR(0, 1))\n",
        "print(OR(1, 0))\n",
        "print(OR(1, 1))"
      ],
      "metadata": {
        "colab": {
          "base_uri": "https://localhost:8080/"
        },
        "id": "GVmu5L1Q5UMF",
        "outputId": "99010e1b-f279-45bd-f764-02f3247bcb38"
      },
      "execution_count": null,
      "outputs": [
        {
          "output_type": "stream",
          "name": "stdout",
          "text": [
            "0\n",
            "1\n",
            "1\n",
            "1\n"
          ]
        }
      ]
    },
    {
      "cell_type": "markdown",
      "source": [
        "# 2.4 퍼셉트론의 한계\n",
        "AND, OR, NAND는 모두 선형 그래프의 모습을 가지기 때문에 단층 퍼셉트론으로 구현할 수 있습니다. 하지만 XOR는 값이 다를 때 1, 값이 같을 때 0이 나오는 비선형 영역을 가지고 있어서 단층 퍼셉트론으로 구현할 수 없다는 한계가 있습니다.\n",
        "\n",
        "따라서 다층 퍼셉으론으로 구현해야 XOR를 구현할 수 있습니다."
      ],
      "metadata": {
        "id": "KT_JWbFr5fsL"
      }
    },
    {
      "cell_type": "markdown",
      "source": [
        "# 2.5 다층 퍼셉트론이 출동한다면\n",
        "퍼셉트론을 쌓아 다층 퍼셉트론을 만들 수 있어 단층 퍼셉트론의 한계를 넘을 수 있습니다."
      ],
      "metadata": {
        "id": "OMmlDEZI7nV-"
      }
    },
    {
      "cell_type": "markdown",
      "source": [
        "## 2.5.2 XOR 게이트 구현하기"
      ],
      "metadata": {
        "id": "Gyg-L89F6OPj"
      }
    },
    {
      "cell_type": "code",
      "source": [
        "def XOR(x1, x2):\n",
        "    s1 = NAND(x1, x2)\n",
        "    s2 = OR(x1, x2)\n",
        "    y = AND(s1, s2)\n",
        "    return y"
      ],
      "metadata": {
        "id": "NYnW6OPO5YUY"
      },
      "execution_count": null,
      "outputs": []
    },
    {
      "cell_type": "code",
      "source": [
        "print(XOR(0, 0))  # 0\n",
        "print(XOR(0, 1))  # 1\n",
        "print(XOR(1, 0))  # 1\n",
        "print(XOR(1, 1))  # 0"
      ],
      "metadata": {
        "colab": {
          "base_uri": "https://localhost:8080/"
        },
        "id": "lM4NX22U6UJD",
        "outputId": "6bd0f3f1-9af2-4634-e940-7133619c7b67"
      },
      "execution_count": null,
      "outputs": [
        {
          "output_type": "stream",
          "name": "stdout",
          "text": [
            "0\n",
            "1\n",
            "1\n",
            "0\n"
          ]
        }
      ]
    },
    {
      "cell_type": "markdown",
      "source": [
        "# 2.6 NAND에서 컴퓨터까지\n",
        "다층 퍼셉트론을 활용하면 더 복잡한 회로까지 만들 수 있습니다. 심지어 컴퓨터 마저 표현할 수 있습니다."
      ],
      "metadata": {
        "id": "Z1beBHsO60yW"
      }
    },
    {
      "cell_type": "code",
      "source": [],
      "metadata": {
        "id": "vfUro6np6V3L"
      },
      "execution_count": null,
      "outputs": []
    }
  ]
}